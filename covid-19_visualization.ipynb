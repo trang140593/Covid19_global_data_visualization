{
 "cells": [
  {
   "cell_type": "code",
   "execution_count": null,
   "metadata": {},
   "outputs": [],
   "source": [
    "import numpy as np\n",
    "import pandas as pd\n",
    "import plotly\n",
    "\n",
    "import plotly.graph_objects as go\n",
    "import plotly.express as px\n",
    "import plotly.io as pio\n",
    "pio.templates.default = \"plotly_dark\"\n",
    "from plotly.subplots import make_subplots\n",
    "import folium \n",
    "from folium import plugins\n",
    "from tqdm.notebook import tqdm as tqdm\n",
    "\n",
    "import warnings\n",
    "warnings.filterwarnings('ignore')"
   ]
  },
  {
   "cell_type": "markdown",
   "metadata": {},
   "source": [
    "**Cleaned Data**\n",
    "\n",
    "Here we visualize the data which thank to the autor of the following link:\n",
    "[COVID-19 Complete Dataset (Updated every 24hrs)](https://www.kaggle.com/imdevskp/corona-virus-report) - Day to day country wise no. of cases (Doesn't have County/State/Province level data)"
   ]
  },
  {
   "cell_type": "code",
   "execution_count": null,
   "metadata": {},
   "outputs": [],
   "source": [
    "cleaned_data = pd.read_csv('/Users/thientrangbui/Dropbox/Kaggle competion/covid19-global-forecasting-week-1/covid_19_clean_complete.csv', parse_dates=['Date'])\n",
    "cleaned_data.head()"
   ]
  },
  {
   "cell_type": "code",
   "execution_count": null,
   "metadata": {},
   "outputs": [],
   "source": [
    "cleaned_data.shape"
   ]
  },
  {
   "cell_type": "code",
   "execution_count": null,
   "metadata": {},
   "outputs": [],
   "source": [
    "# we take a calculation to be sure the n. of active cases based on the confirmed/ deaths/ recovered cases\n",
    "# cases \n",
    "cases = ['Confirmed', 'Deaths', 'Recovered', 'Active']\n",
    "\n",
    "# Active Case = confirmed - deaths - recovered\n",
    "cleaned_data['Active'] = cleaned_data['Confirmed'] - cleaned_data['Deaths'] - cleaned_data['Recovered']\n",
    "\n",
    "# filling missing values \n",
    "cleaned_data[['Province/State']] = cleaned_data[['Province/State']].fillna('')\n",
    "cleaned_data[cases] = cleaned_data[cases].fillna(0)\n",
    "\n",
    "cleaned_data.head()"
   ]
  },
  {
   "cell_type": "code",
   "execution_count": null,
   "metadata": {},
   "outputs": [],
   "source": [
    "cleaned_data.tail()"
   ]
  },
  {
   "cell_type": "markdown",
   "metadata": {},
   "source": [
    "**We consider here the covid19 situation on the whole world until the date 27th July 2020**"
   ]
  },
  {
   "cell_type": "code",
   "execution_count": null,
   "metadata": {},
   "outputs": [],
   "source": [
    "len(cleaned_data['Country/Region'].unique())"
   ]
  },
  {
   "cell_type": "markdown",
   "metadata": {},
   "source": [
    "Let's just see Confirmed , Deaths , Recovered and Active in world wide in all over Country/Region and lets dig deeper into the top 5 Country/Region"
   ]
  },
  {
   "cell_type": "code",
   "execution_count": null,
   "metadata": {},
   "outputs": [],
   "source": [
    "#total number of confirmed cases in each country/region\n",
    "confirmiedcases = pd.DataFrame(cleaned_data.groupby('Country/Region')['Confirmed'].sum())\n",
    "confirmiedcases['Country/Region'] = confirmiedcases.index\n",
    "confirmiedcases.index = np.arange(1,188)\n",
    "\n",
    "#total number of death cases in each country/region\n",
    "Deathcases = pd.DataFrame(cleaned_data.groupby('Country/Region')['Deaths'].sum())\n",
    "Deathcases['Country/Region'] = Deathcases.index\n",
    "Deathcases.iodex = np.arange(1,188)\n",
    "\n",
    "#total number of recovered cases in each country/region\n",
    "Recoveredcases = pd.DataFrame(cleaned_data.groupby('Country/Region')['Recovered'].sum())\n",
    "Recoveredcases['Country/Region'] = Recoveredcases.index\n",
    "Recoveredcases.iodex = np.arange(1,188)\n",
    "\n",
    "#total number of active cases in each country/region\n",
    "Activecases = pd.DataFrame(cleaned_data.groupby('Country/Region')['Active'].sum())\n",
    "Activecases['Country/Region'] = Activecases.index\n",
    "Activecases.iodex = np.arange(1,188)"
   ]
  },
  {
   "cell_type": "code",
   "execution_count": null,
   "metadata": {},
   "outputs": [],
   "source": [
    "confirmiedcases.tail()"
   ]
  },
  {
   "cell_type": "code",
   "execution_count": null,
   "metadata": {},
   "outputs": [],
   "source": [
    "# global cases\n",
    "global_Activecases = Activecases[['Country/Region','Active']]\n",
    "global_Deathcases = Deathcases[['Country/Region','Deaths']]\n",
    "global_Recoveredcases = Recoveredcases[['Country/Region','Recovered']]\n",
    "global_confirmiedcases = confirmiedcases[['Country/Region','Confirmed']]"
   ]
  },
  {
   "cell_type": "code",
   "execution_count": null,
   "metadata": {},
   "outputs": [],
   "source": [
    "fig = px.bar(global_confirmiedcases.sort_values('Confirmed',ascending=False)[:20][::-1],x='Confirmed',y='Country/Region',title='Confirmed Cases Worldwide',text='Confirmed', height=900, orientation='h')\n",
    "fig.show()"
   ]
  },
  {
   "cell_type": "code",
   "execution_count": null,
   "metadata": {},
   "outputs": [],
   "source": [
    "fig=px.bar(global_Recoveredcases.sort_values('Recovered',ascending=False)[:20][::-1],x='Recovered',y='Country/Region',title='Recovered Cases Worldwide',text='Recovered', height=900, orientation='h')\n",
    "fig.show()"
   ]
  },
  {
   "cell_type": "code",
   "execution_count": null,
   "metadata": {},
   "outputs": [],
   "source": [
    "fig = px.bar(global_Deathcases.sort_values('Deaths',ascending=False)[:20][::-1],x='Deaths',y='Country/Region',title='Death Cases Worldwide',text='Deaths', height=900, orientation='h')\n",
    "fig.show()"
   ]
  },
  {
   "cell_type": "code",
   "execution_count": null,
   "metadata": {},
   "outputs": [],
   "source": [
    "fig = px.bar(global_Activecases.sort_values('Active',ascending=False)[:20][::-1],x='Active',y='Country/Region',title='Active Cases Worldwide',text='Active', height=900, orientation='h')\n",
    "fig.show()"
   ]
  },
  {
   "cell_type": "markdown",
   "metadata": {},
   "source": [
    "**Comments:**\n",
    "\n",
    "Recording covid-19 cases until 27th July 2020, we get few following points,\n",
    "\n",
    "* About the confirmed cases: US is being strongest affected by covid19 with the largest number of Confirmed , Deaths and Active cases. However, its Recovered cases is largest also. It's followed by Brazil, Russia, India and Spain. Especially, Brazil's covid-19 situation is really complicated this period when its confirmed cases is increasing quiclky day by days. Spain is a country in Euroupe having the number of confirmed cases increasing alarmingly even after the quarantine.\n",
    "\n",
    "* About the recovered cases: comparing the recovered rate between US and Brazil, the two country being strongest affected by covid-19, we see that Brazil has bigger number of recovered cases than in US. However, Spain's recovered cases is followed by Iran and Italy, that means its rank in the statistic of recovered cases is 8th. \n",
    "\n",
    "* About the death cases: Following US is countries including UK, Brazil, Itali and France. France is a country holding many questions in my point of views cause its confirmed/ active case do not belong in the top 5 countries having the largest number of confirmed/ active cases. I doubt that there's a big question in statistical recording of number of confirmed/active cases in France. \n",
    "\n",
    "* About the active cases: Following US is countries Brazil, UK, Russia and India. "
   ]
  },
  {
   "cell_type": "markdown",
   "metadata": {},
   "source": [
    "**Now lets make visualizations accordingly to the above result**"
   ]
  },
  {
   "cell_type": "code",
   "execution_count": null,
   "metadata": {},
   "outputs": [],
   "source": [
    "#the total number of confirmed/death/recovered/active cases on the world summed each day from \n",
    "# 22nd Jan to 27th July 2020\n",
    "date_c = cleaned_data.groupby('Date')['Confirmed','Deaths','Recovered','Active'].sum().reset_index()\n",
    "date_c.head()"
   ]
  },
  {
   "cell_type": "code",
   "execution_count": null,
   "metadata": {},
   "outputs": [],
   "source": [
    "date_c.tail()"
   ]
  },
  {
   "cell_type": "markdown",
   "metadata": {},
   "source": [
    "The above table visualize the Global Spread of covid19 on whole world following the time. Counting until 27th July 2020, the world have over **16M confirmed cases**, in which over 650k deaths, over 9M of recovered cases and over **6M active cases**."
   ]
  },
  {
   "cell_type": "code",
   "execution_count": null,
   "metadata": {},
   "outputs": [],
   "source": [
    "from plotly.subplots import make_subplots\n",
    "fig = make_subplots(rows=1, cols=4, subplot_titles=(\"Comfirmed\", \"Deaths\", \"Recovered\",'Active'))\n",
    "\n",
    "trace1 = go.Scatter(\n",
    "                x=date_c['Date'],\n",
    "                y=date_c['Confirmed'],\n",
    "                name=\"Confirmed\",\n",
    "                line_color='orange',\n",
    "                mode='lines+markers',\n",
    "                opacity=0.8)\n",
    "trace2 = go.Scatter(\n",
    "                x=date_c['Date'],\n",
    "                y=date_c['Deaths'],\n",
    "                name=\"Deaths\",\n",
    "                line_color='red',\n",
    "                mode='lines+markers',\n",
    "                opacity=0.8)\n",
    "\n",
    "trace3 = go.Scatter(\n",
    "                x=date_c['Date'],\n",
    "                y=date_c['Recovered'],\n",
    "                name=\"Recovered\",\n",
    "                mode='lines+markers',\n",
    "                line_color='green',\n",
    "                opacity=0.8)\n",
    "\n",
    "trace4 = go.Scatter(\n",
    "                x=date_c['Date'],\n",
    "                y=date_c['Active'],\n",
    "                name=\"Active\",\n",
    "                line_color='blue',\n",
    "                mode='lines+markers',\n",
    "                opacity=0.8)\n",
    "\n",
    "fig.append_trace(trace1, 1, 1)\n",
    "fig.append_trace(trace2, 1, 2)\n",
    "fig.append_trace(trace3, 1, 3)\n",
    "fig.append_trace(trace4, 1, 4)\n",
    "fig.update_layout(template=\"plotly_dark\",title_text = '<b>Global Spread of the Coronavirus Over Time </b>',\n",
    "                  font=dict(family=\"Arial, Balto, Courier New, Droid Sans\",color='white'))\n",
    "fig.show()"
   ]
  },
  {
   "cell_type": "code",
   "execution_count": null,
   "metadata": {},
   "outputs": [],
   "source": [
    "grouped_us = cleaned_data[cleaned_data['Country/Region'] == \"US\"].reset_index()\n",
    "grouped_us_date = grouped_us.groupby('Date')['Date', 'Confirmed', 'Deaths','Recovered','Active'].sum().reset_index()\n",
    "\n",
    "grouped_brazil = cleaned_data[cleaned_data['Country/Region'] == \"Brazil\"].reset_index()\n",
    "grouped_brazil_date = grouped_brazil.groupby('Date')['Date', 'Confirmed', 'Deaths','Recovered','Active'].sum().reset_index()\n",
    "\n",
    "grouped_russia = cleaned_data[cleaned_data['Country/Region'] == \"Russia\"].reset_index()\n",
    "grouped_russia_date = grouped_russia.groupby('Date')['Date', 'Confirmed', 'Deaths','Recovered','Active'].sum().reset_index()\n",
    "\n",
    "grouped_india = cleaned_data[cleaned_data['Country/Region'] == \"India\"].reset_index()\n",
    "grouped_india_date = grouped_india.groupby('Date')['Date', 'Confirmed', 'Deaths','Recovered','Active'].sum().reset_index()\n",
    "\n",
    "grouped_spain = cleaned_data[cleaned_data['Country/Region'] == \"Spain\"].reset_index()\n",
    "grouped_spain_date = grouped_spain.groupby('Date')['Date', 'Confirmed', 'Deaths','Recovered','Active'].sum().reset_index()\n",
    "\n",
    "grouped_rest = cleaned_data[~cleaned_data['Country/Region'].isin(['US', 'Brazil', 'Russia', 'India', 'Spain'])].reset_index()\n",
    "grouped_rest_date = grouped_rest.groupby('Date')['Date', 'Confirmed', 'Deaths','Recovered','Active'].sum().reset_index()"
   ]
  },
  {
   "cell_type": "code",
   "execution_count": null,
   "metadata": {},
   "outputs": [],
   "source": [
    "fig = make_subplots(rows=1, cols=4, subplot_titles=(\"Comfirmed\", \"Deaths\", \"Recovered\",'Active'))\n",
    "\n",
    "trace1 = go.Scatter(x=grouped_us_date['Date'],y=grouped_us_date['Confirmed'],name=\"Confirmed\",line_color='orange',mode='lines+markers',opacity=0.8)\n",
    "trace2 = go.Scatter(x=grouped_us_date['Date'],y=grouped_us_date['Deaths'],name=\"Deaths\",line_color='red',mode='lines+markers',opacity=0.8)\n",
    "trace3 = go.Scatter(x=grouped_us_date['Date'],y=grouped_us_date['Recovered'],name=\"Recovered\",mode='lines+markers',line_color='green',opacity=0.8)\n",
    "trace4 = go.Scatter(x=grouped_us_date['Date'],y=grouped_us_date['Active'],name=\"Active\",line_color='blue',mode='lines+markers',opacity=0.8)\n",
    "\n",
    "fig.append_trace(trace1, 1, 1)\n",
    "fig.append_trace(trace2, 1, 2)\n",
    "fig.append_trace(trace3, 1, 3)\n",
    "fig.append_trace(trace4, 1, 4)\n",
    "fig.update_layout(template=\"plotly_dark\",title_text = '<b>Spread of the Coronavirus Over Time in US (TOP 1)</b>',\n",
    "                  font=dict(family=\"Arial, Balto, Courier New, Droid Sans\",color='white'))\n",
    "fig.show()\n"
   ]
  },
  {
   "cell_type": "markdown",
   "metadata": {},
   "source": [
    "**Comments:** Looking at the map of spreading of covid19 in US, this country have been heavily influenced. The n. of confirmed cases takes a quarter of the n. confirmed cases of the whole world. The n. of deaths is also. While the active cases takes almost half of the n. active cases of the whole world. The alarmed covid situation is making a power country facing many challenges."
   ]
  },
  {
   "cell_type": "code",
   "execution_count": null,
   "metadata": {},
   "outputs": [],
   "source": [
    "# create map and display it\n",
    "world_map = folium.Map(location=[10, -20], zoom_start=2.5,tiles='Stamen Toner')\n",
    "\n",
    "for lat, lon, Confirmed,Deaths,Recovered,name in zip(grouped_rest['Lat'], grouped_rest['Long'], grouped_rest['Confirmed'],grouped_rest['Deaths'],grouped_rest['Recovered'], grouped_rest['Country/Region']):\n",
    "    folium.CircleMarker([lat, lon],\n",
    "                        radius=7,\n",
    "                        popup = ('<strong>Country</strong>: ' + str(name).capitalize() + '<br>'\n",
    "                                '<strong>Confirmed Cases</strong>: ' + str(Confirmed) + '<br>'\n",
    "                                '<strong>Recovered Cases</strong>: ' + str(Recovered) +'<br>'\n",
    "                                '<strong>Deaths Cases</strong>: ' + str(Deaths) +'<br>'),\n",
    "                        color='red',\n",
    "                        \n",
    "                        fill_color='red',\n",
    "                        fill_opacity=0.7 ).add_to(world_map)\n",
    "world_map"
   ]
  },
  {
   "cell_type": "code",
   "execution_count": null,
   "metadata": {},
   "outputs": [],
   "source": [
    "world_map.save('world_map.html')"
   ]
  },
  {
   "cell_type": "markdown",
   "metadata": {},
   "source": [
    "**Comparisions**\n",
    "How about comparing the cases to better assess the situation"
   ]
  },
  {
   "cell_type": "code",
   "execution_count": null,
   "metadata": {},
   "outputs": [],
   "source": [
    "temp = cleaned_data.groupby('Date')['Recovered', 'Deaths', 'Active'].sum().reset_index()\n",
    "temp = temp.melt(id_vars=\"Date\", value_vars=['Recovered', 'Deaths', 'Active'],\n",
    "                 var_name='case', value_name='count')\n",
    "\n",
    "\n",
    "fig = px.area(temp, x=\"Date\", y=\"count\", color='case',\n",
    "             title='Cases over time: Area Plot', color_discrete_sequence = ['cyan', 'red', 'orange'])\n",
    "fig.show()"
   ]
  },
  {
   "cell_type": "markdown",
   "metadata": {},
   "source": [
    "**Mortality and Recovery Rates**\n",
    "It is worth seeing these stats as well. It might have a story for sure."
   ]
  },
  {
   "cell_type": "code",
   "execution_count": null,
   "metadata": {},
   "outputs": [],
   "source": [
    "cleaned_latest = cleaned_data[cleaned_data['Date'] == max(cleaned_data['Date'])]\n",
    "flg = cleaned_latest.groupby('Country/Region')['Confirmed', 'Deaths', 'Recovered', 'Active'].sum().reset_index()\n",
    "\n",
    "flg['mortalityRate'] = round((flg['Deaths']/flg['Confirmed'])*100, 2)\n",
    "temp = flg[flg['Confirmed']>1000]\n",
    "#temp = temp.sort_values('mortalityRate', ascending=False)\n",
    "\n",
    "fig = px.bar(temp.sort_values(by=\"mortalityRate\", ascending=False)[:10][::-1],\n",
    "             x = 'mortalityRate', y = 'Country/Region', \n",
    "             title='Deaths per 1000 Confirmed Cases', text='mortalityRate', height=800, orientation='h',\n",
    "             color_discrete_sequence=['darkred']\n",
    "            )\n",
    "fig.show()"
   ]
  },
  {
   "cell_type": "markdown",
   "metadata": {},
   "source": [
    "**COVID-19: Spread Over Time**"
   ]
  },
  {
   "cell_type": "code",
   "execution_count": null,
   "metadata": {},
   "outputs": [],
   "source": [
    "formated_gdf = cleaned_data.groupby(['Date', 'Country/Region'])['Confirmed', 'Deaths'].max()\n",
    "formated_gdf = formated_gdf.reset_index()\n",
    "formated_gdf['Date'] = pd.to_datetime(formated_gdf['Date'])\n",
    "formated_gdf['Date'] = formated_gdf['Date'].dt.strftime('%m/%d/%Y')\n",
    "formated_gdf['size'] = formated_gdf['Confirmed'].pow(0.3)\n",
    "\n",
    "fig = px.scatter_geo(formated_gdf, locations=\"Country/Region\", locationmode='country names', \n",
    "                     color=\"Confirmed\", size='size', hover_name=\"Country/Region\", \n",
    "                     range_color= [0, 1500], \n",
    "                     projection=\"natural earth\", animation_frame=\"Date\", \n",
    "                     title='COVID-19: Spread Over Time', color_continuous_scale=\"portland\")\n",
    "# fig.update(layout_coloraxis_showscale=False)\n",
    "fig.show()"
   ]
  },
  {
   "cell_type": "markdown",
   "metadata": {},
   "source": [
    "**COVID-19: Deaths Over Time**"
   ]
  },
  {
   "cell_type": "code",
   "execution_count": null,
   "metadata": {},
   "outputs": [],
   "source": [
    "formated_gdf = cleaned_data.groupby(['Date', 'Country/Region'])['Confirmed', 'Deaths'].max()\n",
    "formated_gdf = formated_gdf.reset_index()\n",
    "formated_gdf['Date'] = pd.to_datetime(formated_gdf['Date'])\n",
    "formated_gdf['Date'] = formated_gdf['Date'].dt.strftime('%m/%d/%Y')\n",
    "formated_gdf['size'] = formated_gdf['Deaths'].pow(0.3)\n",
    "\n",
    "fig = px.scatter_geo(formated_gdf, locations=\"Country/Region\", locationmode='country names', \n",
    "                     color=\"Deaths\", size='size', hover_name=\"Country/Region\", \n",
    "                     range_color= [0, 100], \n",
    "                     projection=\"natural earth\", animation_frame=\"Date\", \n",
    "                     title='COVID-19: Deaths Over Time', color_continuous_scale=\"peach\")\n",
    "# fig.update(layout_coloraxis_showscale=False)\n",
    "fig.show()"
   ]
  },
  {
   "cell_type": "markdown",
   "metadata": {},
   "source": [
    "**Activate cases over the time**"
   ]
  },
  {
   "cell_type": "code",
   "execution_count": null,
   "metadata": {},
   "outputs": [],
   "source": [
    "formated_gdf = cleaned_data.groupby(['Date', 'Country/Region'])['Active'].max()\n",
    "formated_gdf = formated_gdf.reset_index()\n",
    "formated_gdf['Date'] = pd.to_datetime(formated_gdf['Date'])\n",
    "formated_gdf['Date'] = formated_gdf['Date'].dt.strftime('%m/%d/%Y')\n",
    "formated_gdf['size'] = formated_gdf['Active'].pow(0.3)\n",
    "formated_gdf['size'].fillna(formated_gdf['size'].mean(),inplace=True)\n",
    "\n",
    "fig = px.scatter_geo(formated_gdf, locations=\"Country/Region\", locationmode='country names', \n",
    "                     color=\"Active\", size='size', hover_name=\"Country/Region\", \n",
    "                     range_color= [0, 1000], \n",
    "                     projection=\"natural earth\", animation_frame=\"Date\", \n",
    "                     title='COVID-19: Active Cases Over Time', color_continuous_scale=\"portland\")\n",
    "fig.update(layout_coloraxis_showscale=False)\n",
    "fig.show()"
   ]
  },
  {
   "cell_type": "code",
   "execution_count": null,
   "metadata": {},
   "outputs": [],
   "source": []
  }
 ],
 "metadata": {
  "kernelspec": {
   "display_name": "Python 3",
   "language": "python",
   "name": "python3"
  },
  "language_info": {
   "codemirror_mode": {
    "name": "ipython",
    "version": 3
   },
   "file_extension": ".py",
   "mimetype": "text/x-python",
   "name": "python",
   "nbconvert_exporter": "python",
   "pygments_lexer": "ipython3",
   "version": "3.8.3"
  }
 },
 "nbformat": 4,
 "nbformat_minor": 4
}
